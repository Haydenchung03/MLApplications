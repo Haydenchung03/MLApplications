{
 "cells": [
  {
   "cell_type": "code",
   "execution_count": 2,
   "metadata": {},
   "outputs": [],
   "source": [
    "import sys\n",
    "import os\n",
    "\n",
    "machine_path = os.path.abspath(os.path.join('..'))\n",
    "if machine_path not in sys.path:\n",
    "    sys.path.append(machine_path + \"\\\\machineLearning\")\n",
    "module_path = os.path.abspath(os.path.join('..'))\n",
    "if module_path not in sys.path:\n",
    "    sys.path.append(module_path + \"\\\\backTester\")\n",
    "\n",
    "# import the machine learning module\n",
    "from backTester import BackTester\n",
    "from machineLearning import machineLearning"
   ]
  },
  {
   "cell_type": "code",
   "execution_count": 3,
   "metadata": {},
   "outputs": [
    {
     "name": "stdout",
     "output_type": "stream",
     "text": [
      "[comb_rsi_window        21          \n",
      "comb_ma_window         50          \n",
      "symbol               MSFT      AAPL\n",
      "count            1843.000  1843.000\n",
      "mean               55.150    52.378\n",
      "std                13.698    12.642\n",
      "min                22.748    21.186\n",
      "25%                46.043    43.018\n",
      "50%                55.026    51.985\n",
      "75%                65.208    63.547\n",
      "max                91.480    80.549, comb_rsi_window        21          \n",
      "comb_ma_window         50          \n",
      "symbol               MSFT      AAPL\n",
      "count            1899.000  1899.000\n",
      "mean              259.612   151.764\n",
      "std                 7.755     1.893\n",
      "min               247.734   148.121\n",
      "25%               255.045   150.813\n",
      "50%               258.744   151.664\n",
      "75%               264.012   152.738\n",
      "max               275.957   156.164]\n"
     ]
    }
   ],
   "source": [
    "machineLearn = machineLearning([\"MSFT\", \"AAPL\"], \"2023-03-10\", \"2023-03-17\")\n",
    "print(machineLearn.returnDataStatistics())"
   ]
  },
  {
   "cell_type": "code",
   "execution_count": 4,
   "metadata": {},
   "outputs": [
    {
     "name": "stdout",
     "output_type": "stream",
     "text": [
      "comb_rsi_window        21          \n",
      "comb_ma_window         50          \n",
      "symbol               MSFT      AAPL\n",
      "count            1948.000  1948.000\n",
      "mean               -0.085    -0.033\n",
      "std                 0.357     0.288\n",
      "min                -1.000    -1.000\n",
      "25%                 0.000     0.000\n",
      "50%                 0.000     0.000\n",
      "75%                 0.000     0.000\n",
      "max                 1.000     1.000\n",
      "comb_rsi_window        21          \n",
      "comb_ma_window         50          \n",
      "symbol               MSFT      AAPL\n",
      "count            1948.000  1948.000\n",
      "mean               -0.085    -0.033\n",
      "std                 0.357     0.288\n",
      "min                -1.000    -1.000\n",
      "25%                 0.000     0.000\n",
      "50%                 0.000     0.000\n",
      "75%                 0.000     0.000\n",
      "max                 1.000     1.000\n"
     ]
    }
   ],
   "source": [
    "print(machineLearn.returnTrendStatistics())"
   ]
  },
  {
   "cell_type": "code",
   "execution_count": 5,
   "metadata": {},
   "outputs": [
    {
     "name": "stdout",
     "output_type": "stream",
     "text": [
      "comb_rsi_window             21     \n",
      "comb_ma_window              50     \n",
      "symbol                    AAPL MSFT\n",
      "Datetime                           \n",
      "2023-03-09 14:30:00+00:00    0    0\n",
      "2023-03-09 14:31:00+00:00    0    0\n",
      "2023-03-09 14:32:00+00:00    0    0\n",
      "2023-03-09 14:33:00+00:00    0    0\n",
      "2023-03-09 14:34:00+00:00    0    0\n",
      "...                        ...  ...\n",
      "2023-03-15 19:55:00+00:00    0    0\n",
      "2023-03-15 19:56:00+00:00    0    0\n",
      "2023-03-15 19:57:00+00:00    0    0\n",
      "2023-03-15 19:58:00+00:00    0    0\n",
      "2023-03-15 19:59:00+00:00    0    0\n",
      "\n",
      "[1949 rows x 2 columns]\n"
     ]
    }
   ],
   "source": [
    "testing = BackTester.VectorBT(['AAPL', 'MSFT'], '2023-03-09', '2023-03-16')\n",
    "\n",
    "print(testing.getRawData())"
   ]
  }
 ],
 "metadata": {
  "kernelspec": {
   "display_name": "venv",
   "language": "python",
   "name": "python3"
  },
  "language_info": {
   "codemirror_mode": {
    "name": "ipython",
    "version": 3
   },
   "file_extension": ".py",
   "mimetype": "text/x-python",
   "name": "python",
   "nbconvert_exporter": "python",
   "pygments_lexer": "ipython3",
   "version": "3.10.10"
  },
  "orig_nbformat": 4
 },
 "nbformat": 4,
 "nbformat_minor": 2
}
