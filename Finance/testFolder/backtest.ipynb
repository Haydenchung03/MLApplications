{
 "cells": [
  {
   "cell_type": "code",
   "execution_count": null,
   "metadata": {},
   "outputs": [],
   "source": [
    "import sys\n",
    "import os\n",
    "\n",
    "machine_path = os.path.abspath(os.path.join('..'))\n",
    "if machine_path not in sys.path:\n",
    "    sys.path.append(machine_path + \"\\\\machineLearning\")\n",
    "module_path = os.path.abspath(os.path.join('..'))\n",
    "if module_path not in sys.path:\n",
    "    sys.path.append(module_path + \"\\\\backTester\")\n",
    "\n",
    "# import the machine learning module\n",
    "from backTester import BackTester\n",
    "from machineLearning import machineLearning"
   ]
  },
  {
   "cell_type": "code",
   "execution_count": null,
   "metadata": {},
   "outputs": [],
   "source": [
    "machineLearn = machineLearning([\"MSFT\", \"AAPL\"], \"2023-03-10\", \"2023-03-17\")\n",
    "print(machineLearn.returnDataStatistics())"
   ]
  },
  {
   "cell_type": "code",
   "execution_count": null,
   "metadata": {},
   "outputs": [],
   "source": [
    "print(machineLearn.returnTrendStatistics())"
   ]
  },
  {
   "cell_type": "code",
   "execution_count": null,
   "metadata": {},
   "outputs": [],
   "source": [
    "testing = BackTester.VectorBT(['AAPL', 'MSFT'], '2010-03-31', '2023-04-07')\n",
    "\n",
    "print(testing.indicatorFactory()[0])"
   ]
  }
 ],
 "metadata": {
  "kernelspec": {
   "display_name": "venv",
   "language": "python",
   "name": "python3"
  },
  "language_info": {
   "codemirror_mode": {
    "name": "ipython",
    "version": 3
   },
   "file_extension": ".py",
   "mimetype": "text/x-python",
   "name": "python",
   "nbconvert_exporter": "python",
   "pygments_lexer": "ipython3",
   "version": "3.10.10"
  },
  "orig_nbformat": 4
 },
 "nbformat": 4,
 "nbformat_minor": 2
}
